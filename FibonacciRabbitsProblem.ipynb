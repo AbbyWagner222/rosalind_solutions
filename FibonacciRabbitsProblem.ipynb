{
 "cells": [
  {
   "cell_type": "code",
   "execution_count": 59,
   "id": "e1491eef-3275-4643-99c7-ca8bf6d06c8b",
   "metadata": {},
   "outputs": [
    {
     "data": {
      "text/plain": [
       "19"
      ]
     },
     "execution_count": 59,
     "metadata": {},
     "output_type": "execute_result"
    }
   ],
   "source": [
    "def find_new_pairs(litter: int, breedable_pairs: int):\n",
    "    #finds number of offspring pairs produced, given a number of breedable pairs\n",
    "    new_pairs = breedable_pairs*litter\n",
    "    return new_pairs\n",
    "\n",
    "\n",
    "def rabbit_population_finder(month: int, offspring_rate: int):\n",
    "   #establish dictionary to keep track of population counts through time\n",
    "    population_history = {1: 1, 2: 1}\n",
    "    #baby rabbits so not reproducing\n",
    "    if month == 1:\n",
    "            total_pairs = 1\n",
    "        #rabbits mate, but offspring not born yet\n",
    "    elif month == 2:\n",
    "            total_pairs = 1\n",
    "    #add population counts for each month\n",
    "    offspring = 0\n",
    "    for n in range(3, month+1):\n",
    "        if n == 3:\n",
    "            offspring = find_new_pairs(offspring_rate, 1)\n",
    "            #add population count (new offspring born + pair) to population_history dict\n",
    "            population_history[n]=offspring + 1\n",
    "        else:\n",
    "            #new offspring born to pairs that were able to reproduce and had a month gestation period (two months ago)\n",
    "            breedable_pairs  = population_history[n-2]\n",
    "            offspring = find_new_pairs(offspring_rate, breedable_pairs)\n",
    "            #total count is NEW offspring + pairs not giving birth + pairs that were giving birth\n",
    "            population_history[n]= offspring + (population_history[n-1]-breedable_pairs) + breedable_pairs\n",
    "            #use month requested as key to pull up population count value\n",
    "    return population_history[n]\n",
    "\n",
    "\n",
    "\n",
    "# rabbit_population_finder(5,3) -> 19\n",
    "\n",
    "\n",
    "\n",
    "\n",
    "\n",
    "\n",
    "\n",
    "\n",
    "\n",
    "\n",
    "\n",
    "\n"
   ]
  }
 ],
 "metadata": {
  "kernelspec": {
   "display_name": "Python 3 (ipykernel)",
   "language": "python",
   "name": "python3"
  },
  "language_info": {
   "codemirror_mode": {
    "name": "ipython",
    "version": 3
   },
   "file_extension": ".py",
   "mimetype": "text/x-python",
   "name": "python",
   "nbconvert_exporter": "python",
   "pygments_lexer": "ipython3",
   "version": "3.12.4"
  }
 },
 "nbformat": 4,
 "nbformat_minor": 5
}
